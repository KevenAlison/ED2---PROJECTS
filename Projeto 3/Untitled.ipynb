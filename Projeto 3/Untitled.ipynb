{
 "cells": [
  {
   "cell_type": "code",
   "execution_count": 1,
   "id": "2609b53d",
   "metadata": {},
   "outputs": [],
   "source": [
    "import csv\n",
    "import time\n",
    "import random  "
   ]
  },
  {
   "cell_type": "code",
   "execution_count": 2,
   "id": "6da32d42",
   "metadata": {},
   "outputs": [
    {
     "name": "stdout",
     "output_type": "stream",
     "text": [
      "Requirement already satisfied: pytest in c:\\programdata\\anaconda3\\lib\\site-packages (6.2.4)\n",
      "Requirement already satisfied: pytest-sugar in c:\\programdata\\anaconda3\\lib\\site-packages (0.9.5)\n",
      "Requirement already satisfied: attrs>=19.2.0 in c:\\programdata\\anaconda3\\lib\\site-packages (from pytest) (21.2.0)\n",
      "Requirement already satisfied: iniconfig in c:\\programdata\\anaconda3\\lib\\site-packages (from pytest) (1.1.1)\n",
      "Requirement already satisfied: packaging in c:\\programdata\\anaconda3\\lib\\site-packages (from pytest) (21.0)\n",
      "Requirement already satisfied: pluggy<1.0.0a1,>=0.12 in c:\\programdata\\anaconda3\\lib\\site-packages (from pytest) (0.13.1)\n",
      "Requirement already satisfied: py>=1.8.2 in c:\\programdata\\anaconda3\\lib\\site-packages (from pytest) (1.10.0)\n",
      "Requirement already satisfied: toml in c:\\programdata\\anaconda3\\lib\\site-packages (from pytest) (0.10.2)\n",
      "Requirement already satisfied: atomicwrites>=1.0 in c:\\programdata\\anaconda3\\lib\\site-packages (from pytest) (1.4.0)\n",
      "Requirement already satisfied: colorama in c:\\programdata\\anaconda3\\lib\\site-packages (from pytest) (0.4.4)\n",
      "Requirement already satisfied: termcolor>=1.1.0 in c:\\programdata\\anaconda3\\lib\\site-packages (from pytest-sugar) (2.0.1)\n",
      "Requirement already satisfied: pyparsing>=2.0.2 in c:\\programdata\\anaconda3\\lib\\site-packages (from packaging->pytest) (3.0.4)\n"
     ]
    }
   ],
   "source": [
    "!pip install pytest pytest-sugar"
   ]
  },
  {
   "cell_type": "markdown",
   "id": "5bb8bf21",
   "metadata": {},
   "source": [
    "## 1st Function Implementation - Info messages by ID"
   ]
  },
  {
   "cell_type": "code",
   "execution_count": 3,
   "id": "e4e6c811",
   "metadata": {},
   "outputs": [],
   "source": [
    "class Comments():                   \n",
    "    \n",
    "    def __init__(self, csv_filename): \n",
    "        with open(csv_filename, encoding='utf8') as f:\n",
    "            reader = csv.reader(f)\n",
    "            rows = list(reader)\n",
    "            \n",
    "        self.header = rows[0]\n",
    "        self.rows = rows[1:]\n",
    "        \n",
    "        self.id_to_row = {}\n",
    "        for row in self.rows:\n",
    "            self.id_to_row[row[1]] = row\n",
    "            \n",
    "    # 1st Function -----------------------------------------        \n",
    "    def get_message_from_id(self, commentID):\n",
    "        for row in self.rows:                 \n",
    "            if row[1] == commentID:\n",
    "                return row\n",
    "        return None   \n",
    "    \n",
    "    def get_message_from_id_fast(self, commentID):  \n",
    "        if commentID in self.id_to_row:           \n",
    "            return self.id_to_row[commentID]\n",
    "        return None\n",
    "    #-------------------------------------------------------\n"
   ]
  },
  {
   "cell_type": "code",
   "execution_count": 4,
   "id": "b1dd3743",
   "metadata": {
    "scrolled": false
   },
   "outputs": [
    {
     "name": "stdout",
     "output_type": "stream",
     "text": [
      "['comment', 'imlddn9', '2qh3l', 'news', 'false', '1661990368', 'https://old.reddit.com/r/news/comments/x2cszk/us_life_expectancy_down_for_secondstraight_year/imlddn9/', 'Yeah but what the above commenter is saying is their base doesn’t want any of that. They detest all of those things, even the small gradual changes. Investing in nuclear energy is a tacit acknowledgement of man made climate change. Any acknowledgement or concession and they will be primaried out in a minute', '0.5719', '2']\n",
      "['comment', 'imlddn9', '2qh3l', 'news', 'false', '1661990368', 'https://old.reddit.com/r/news/comments/x2cszk/us_life_expectancy_down_for_secondstraight_year/imlddn9/', 'Yeah but what the above commenter is saying is their base doesn’t want any of that. They detest all of those things, even the small gradual changes. Investing in nuclear energy is a tacit acknowledgement of man made climate change. Any acknowledgement or concession and they will be primaried out in a minute', '0.5719', '2']\n"
     ]
    }
   ],
   "source": [
    "comments = Comments('the-reddit-climate-change-dataset-comments.csv')\n",
    "print(comments.get_message_from_id('imlddn9'))\n",
    "print(comments.get_message_from_id_fast('imlddn9'))"
   ]
  },
  {
   "cell_type": "code",
   "execution_count": 5,
   "id": "48b3cf14",
   "metadata": {},
   "outputs": [
    {
     "name": "stdout",
     "output_type": "stream",
     "text": [
      "15.049787044525146\n",
      "0.0\n"
     ]
    }
   ],
   "source": [
    "ids = []\n",
    "for row in comments.rows:\n",
    "    ids.append(row[1])\n",
    "    \n",
    "ids_random = [ids[random.randint(0, len(ids))] for _ in range(100)]\n",
    "\n",
    "total_time_no_dict = 0\n",
    "for identifier in ids_random:\n",
    "    start = time.time()\n",
    "    comments.get_message_from_id(identifier)\n",
    "    end = time.time()\n",
    "    total_time_no_dict += end - start\n",
    "    \n",
    "total_time_dict = 0\n",
    "for identifier in ids_random:\n",
    "    start = time.time()\n",
    "    comments.get_message_from_id_fast(identifier)\n",
    "    end = time.time()\n",
    "    total_time_dict += end - start\n",
    "    \n",
    "print(round(total_time_no_dict, 30))\n",
    "print(round(total_time_dict, 39))"
   ]
  },
  {
   "cell_type": "markdown",
   "id": "0e4fd699",
   "metadata": {},
   "source": [
    "## 2nd Function implementation - Messages by Sentiments "
   ]
  },
  {
   "cell_type": "code",
   "execution_count": 6,
   "id": "6d6a21e1",
   "metadata": {},
   "outputs": [],
   "source": [
    "class Comments():                    \n",
    "    def __init__(self, csv_filename): \n",
    "        with open(csv_filename, encoding='utf8') as f:\n",
    "            reader = csv.reader(f)\n",
    "            rows = list(reader)\n",
    "            \n",
    "        self.header = rows[0]\n",
    "        self.rows = rows[1:]\n",
    "        \n",
    "        self.id_to_row = {}\n",
    "        for row in self.rows:\n",
    "            self.id_to_row[row[1]] = row\n",
    "        \n",
    "        ##for function 2\n",
    "        for row in self.rows:\n",
    "            if row[8] == '': \n",
    "                row[8] = 0.0\n",
    "            else:\n",
    "                row[8] = float(row[8])\n",
    "                \n",
    "        self.rows_sentiment = sorted(self.rows, key=row_sentiment)\n",
    "\n",
    "        \n",
    "    # 1st Function -----------------------------------------        \n",
    "    def get_message_from_id(self, commentID):\n",
    "        for row in self.rows:                 \n",
    "            if row[1] == commentID:\n",
    "                return row\n",
    "            \n",
    "        return None   \n",
    " \n",
    "\n",
    "    def get_message_from_id_fast(self, commentID):\n",
    "        if commentID in self.id_to_row:           \n",
    "            return self.id_to_row[commentID]\n",
    "        return None\n",
    "    #-------------------------------------------------------\n",
    "    \n",
    "    # 2nd Function -----------------------------------------\n",
    "    def find_message_with_sentiment(self, target_sentiment, row_start):\n",
    "        range_start = row_start                                   \n",
    "        range_end = len(self.rows_sentiment) - 1     \n",
    "        \n",
    "        while range_start < range_end:\n",
    "            range_middle = (range_end + range_start) // 2  \n",
    "            value = self.rows_sentiment[range_middle][8]\n",
    "            if value == target_sentiment:                            \n",
    "                return range_middle                        \n",
    "            elif value < target_sentiment:                           \n",
    "                range_start = range_middle + 1             \n",
    "            else:                                          \n",
    "                range_end = range_middle - 1 \n",
    "                \n",
    "        if self.rows_sentiment[range_start][8] != target_sentiment:                  \n",
    "            return -1  \n",
    "        \n",
    "        return range_start\n",
    "\n",
    "    \n",
    "    def messages_by_sentiments_range(self, lim_inferior, lim_superior):\n",
    "        inferior_limit = self.find_message_with_sentiment(lim_inferior, 0)\n",
    "        if inferior_limit == -1:\n",
    "            return -1\n",
    "        \n",
    "        superior_limit = self.find_message_with_sentiment(lim_superior, inferior_limit)\n",
    "        if superior_limit == -1:\n",
    "            return -1\n",
    "        \n",
    "        data = self.rows_sentiment[inferior_limit:superior_limit+1]\n",
    "        return [row[7] for row in data]  "
   ]
  },
  {
   "cell_type": "code",
   "execution_count": null,
   "id": "556e58ae",
   "metadata": {},
   "outputs": [],
   "source": [
    "comments = Comments('the-reddit-climate-change-dataset-comments.csv')\n",
    "print(comments.messages_by_sentiments_range(-0.2889, -0.2888))\n",
    "print(comments.messages_by_sentiments_range(-0.28891234, -0.2888))"
   ]
  },
  {
   "cell_type": "markdown",
   "id": "33acb673",
   "metadata": {},
   "source": [
    "## 3rd Function Implementation"
   ]
  },
  {
   "cell_type": "code",
   "execution_count": null,
   "id": "fd93699e",
   "metadata": {},
   "outputs": [],
   "source": [
    "class Comments():                    \n",
    "    def __init__(self, csv_filename): \n",
    "        with open(csv_filename, encoding='utf8') as f:\n",
    "            reader = csv.reader(f)\n",
    "            rows = list(reader)\n",
    "            \n",
    "        self.header = rows[0]\n",
    "        self.rows = rows[1:]\n",
    "        \n",
    "        self.id_to_row = {}\n",
    "        for row in self.rows:\n",
    "            self.id_to_row[row[1]] = row\n",
    "        \n",
    "        ##for function 2\n",
    "        for row in self.rows:\n",
    "            if row[8] == '': \n",
    "                row[8] = 0.0\n",
    "            else:\n",
    "                row[8] = float(row[8])\n",
    "                \n",
    "        self.rows_sentiment = sorted(self.rows, key=row_sentiment)\n",
    "        \n",
    "        ##for function 3\n",
    "        for row in self.rows:              \n",
    "            row[9] = int(row[9])\n",
    "\n",
    "        self.rows_score = {}                    \n",
    "        for row in self.rows:                       \n",
    "            self.rows_score[row[9]] = row\n",
    "\n",
    "        \n",
    "    # 1st Function -----------------------------------------        \n",
    "    def get_message_from_id(self, commentID):\n",
    "        for row in self.rows:                 \n",
    "            if row[1] == commentID:\n",
    "                return row\n",
    "            \n",
    "        return None   \n",
    " \n",
    "\n",
    "    def get_message_from_id_fast(self, commentID):\n",
    "        if commentID in self.id_to_row:           \n",
    "            return self.id_to_row[commentID]\n",
    "        return None\n",
    "    #-------------------------------------------------------\n",
    "    \n",
    "    # 2nd Function -----------------------------------------\n",
    "    def find_message_with_sentiment(self, target_sentiment, row_start):\n",
    "        range_start = row_start                                   \n",
    "        range_end = len(self.rows_sentiment) - 1     \n",
    "        \n",
    "        while range_start < range_end:\n",
    "            range_middle = (range_end + range_start) // 2  \n",
    "            value = self.rows_sentiment[range_middle][8]\n",
    "            if value == target_sentiment:                            \n",
    "                return range_middle                        \n",
    "            elif value < target_sentiment:                           \n",
    "                range_start = range_middle + 1             \n",
    "            else:                                          \n",
    "                range_end = range_middle - 1 \n",
    "                \n",
    "        if self.rows_sentiment[range_start][8] != target_sentiment:                  \n",
    "            return -1  \n",
    "        \n",
    "        return range_start\n",
    "\n",
    "    \n",
    "    def messages_by_sentiments_range(self, lim_inferior, lim_superior):\n",
    "        inferior_limit = self.find_message_with_sentiment(lim_inferior, 0)\n",
    "        if inferior_limit == -1:\n",
    "            return -1\n",
    "        \n",
    "        superior_limit = self.find_message_with_sentiment(lim_superior, inferior_limit)\n",
    "        if superior_limit == -1:\n",
    "            return -1\n",
    "        \n",
    "        data = self.rows_sentiment[inferior_limit:superior_limit+1]\n",
    "        return [row[7] for row in data] \n",
    "    \n",
    "    # 3nd Function -----------------------------------------\n",
    "    def check_socore_sum(self, value):    \n",
    "        for row1 in self.rows:                  \n",
    "            for row2 in self.rows:\n",
    "                if row1[9] + row2[9] == value:\n",
    "                    return row1, row2\n",
    "        return -1                      \n",
    "    \n",
    "    def check_score_sum_fast(self, value):\n",
    "        for row in self.rows_score:\n",
    "            if (value - row) in self.prices:\n",
    "                return self.rows_score[row], self.rows_score[value - row]\n",
    "        return -1   \n",
    "    #-------------------------------------------------------"
   ]
  },
  {
   "cell_type": "code",
   "execution_count": null,
   "id": "dfa7cfa6",
   "metadata": {},
   "outputs": [],
   "source": [
    "random_scrores = [random.randint(-25, 350) for _ in range(100)] # step 1\n",
    "\n",
    "total_time_no_set = 0\n",
    "for score in random_scrores:\n",
    "    start = time.time()\n",
    "    comments.check_socore_sum(score)\n",
    "    end = time.time()\n",
    "    total_time_no_set += end - start\n",
    "    \n",
    "total_time_set = 0\n",
    "for score in random_scrores:\n",
    "    start = time.time()\n",
    "    comments.check_score_sum_fast(score)\n",
    "    end = time.time()\n",
    "    total_time_set += end - start\n",
    "    \n",
    "print(total_time_no_set)\n",
    "print(total_time_set)"
   ]
  }
 ],
 "metadata": {
  "kernelspec": {
   "display_name": "Python 3 (ipykernel)",
   "language": "python",
   "name": "python3"
  },
  "language_info": {
   "codemirror_mode": {
    "name": "ipython",
    "version": 3
   },
   "file_extension": ".py",
   "mimetype": "text/x-python",
   "name": "python",
   "nbconvert_exporter": "python",
   "pygments_lexer": "ipython3",
   "version": "3.9.7"
  }
 },
 "nbformat": 4,
 "nbformat_minor": 5
}
