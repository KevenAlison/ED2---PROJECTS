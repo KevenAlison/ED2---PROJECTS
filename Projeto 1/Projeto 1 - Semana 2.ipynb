{
 "cells": [
  {
   "cell_type": "markdown",
   "id": "802a2f6c",
   "metadata": {},
   "source": [
    "# Analise de dados da APP Store e Google Play para o planejamento de uma aplicação"
   ]
  },
  {
   "cell_type": "markdown",
   "id": "40cba6d3",
   "metadata": {},
   "source": [
    "Este projeto tem como objetivo analisar as bases de dados relacionadas às plataformas de download \"APP Store\" e \"Google Play\", respectivamente encontradas nos dispositivos moveis mais populares do mundo, Iphones e Dispositivos Android. Para a analise temos como entrada dois arquivos, um de cada plataforma, com as informações acerca de seus apps disponiveis para download, tais como nome, avaliações, genero, etc. Através desses dados busca-se entender a demanda do usuário, auxiliando no planejamento de uma aplicação baseada nas tendencias do mercado.\n",
    "Para o desenvolvimento dessa aplicação foi utilizada a linguagem Python, com auxilio da IDE Jupyter Notebook. A aplicação conta com aplicações basicas e intermediárias da linguagem, tais como funções e noções de programação orientada a objetos."
   ]
  },
  {
   "cell_type": "markdown",
   "id": "544bb967",
   "metadata": {},
   "source": [
    "### Definição da classe \"Dados\" e seus métodos"
   ]
  },
  {
   "cell_type": "markdown",
   "id": "45618220",
   "metadata": {},
   "source": [
    "    Para encapsular as funções que manipulam os dados, foi criada uma classe denominada de \"Dados\" que conta com os métodos necessários para polir e extrair as informações que precisamimos para a analise dos dados."
   ]
  },
  {
   "cell_type": "code",
   "execution_count": 1,
   "id": "94ab6793",
   "metadata": {},
   "outputs": [],
   "source": [
    "from csv import reader\n",
    "class Dados():\n",
    "    \n",
    "    def __init__(self, nomeArquivo):\n",
    "        arquivoAberto = open(nomeArquivo,encoding='utf8')\n",
    "        arquivoLido = reader(arquivoAberto)\n",
    "        listaCompleta = list(arquivoLido)\n",
    "        self.cabecalho = listaCompleta[0]\n",
    "        self.corpo = listaCompleta[1:]\n",
    "    \n",
    "\n",
    "    def imprimirDados(self, comeco, fim):\n",
    "        parte_dos_dados = self.corpo[comeco:fim]    \n",
    "        for app in parte_dos_dados:\n",
    "            print(app)\n",
    "            print('\\n')\n",
    "    \n",
    "    def tamanhoMatrizDeDados(self):\n",
    "        print('Numero de linhas:', len(self.corpo))\n",
    "        print('Numero de colunas:', len(self.corpo[0]))\n",
    "    \n",
    "    def identificarLinhasErradas(self):\n",
    "        for app in self.corpo:\n",
    "            if len(app) !=len(self.cabecalho):\n",
    "                print('Linha :', (self.corpo).index(app), '\\n')\n",
    "    \n",
    "    def deletarLinha(self, linha):\n",
    "        del self.corpo[linha]\n",
    "    \n",
    "    def identificarAppsDuplicados(self):\n",
    "        appsDuplicados = []\n",
    "        appsUnicos = []\n",
    "\n",
    "        for app in self.corpo:\n",
    "            nomeApp = app[0]\n",
    "            if nomeApp in appsUnicos:\n",
    "                appsDuplicados.append(nomeApp)\n",
    "            else:\n",
    "                appsUnicos.append(nomeApp)\n",
    "    \n",
    "        print('Quantidade de aplicativos duplicados: ', len(appsDuplicados))\n",
    "        print('\\n')\n",
    "        print('Examplo de apps duplicados: ', appsDuplicados[:15])\n",
    "    \n",
    "    def identificarAppsMaiorAvaliacao(self):\n",
    "        self.maiorAvaliacao = {}\n",
    "        for app in self.corpo:\n",
    "            nome = app[0]\n",
    "            numReviews = float(app[3])\n",
    "            if nome in self.maiorAvaliacao and self.maiorAvaliacao[nome] < numReviews:\n",
    "                self.maiorAvaliacao[nome] = numReviews\n",
    "            elif nome not in self.maiorAvaliacao:\n",
    "                self.maiorAvaliacao[nome] = numReviews\n",
    "    \n",
    "        print('Tamanho esperado considerando a remoção dos apps duplicados:', len(self.corpo) - 1181)\n",
    "        print('Tamanho atual:', len(self.maiorAvaliacao))\n",
    "\n",
    "    def filtrarAplicativosMaiorAvaliacao(self):\n",
    "        arquivoFiltrado = []\n",
    "        appsJaAdicionados = []\n",
    "        for app in self.corpo:\n",
    "            nome = app[0]\n",
    "            numReviews = float(app[3])\n",
    "            if (self.maiorAvaliacao[nome] == numReviews) and (nome not in appsJaAdicionados):\n",
    "                arquivoFiltrado.append(app)\n",
    "                appsJaAdicionados.append(nome)\n",
    "\n",
    "        self.corpo = arquivoFiltrado\n",
    "        self.imprimirDados(0, 5)\n",
    "        self.tamanhoMatrizDeDados()\n",
    "    \n",
    "    def appIngles(self, nomeApp):\n",
    "        naoAscii = 0\n",
    "        for character in nomeApp:\n",
    "            if ord(character) > 127:\n",
    "                naoAscii += 1\n",
    "        if naoAscii > 3:\n",
    "            return False\n",
    "        else:\n",
    "            return True\n",
    "    \n",
    "    def removerAppsEstrangeiros(self, indiceNome):\n",
    "        appsIngles = []\n",
    "        for app in self.corpo:\n",
    "            nome = app[indiceNome]\n",
    "            if self.appIngles(nome) == True:\n",
    "                appsIngles.append(app)\n",
    "        self.corpo = appsIngles\n",
    "        self.imprimirDados(0, 5)\n",
    "        self.tamanhoMatrizDeDados()\n",
    "        \n",
    "    def filtroAppsGratuitos(self, indicePreco):\n",
    "        listaFiltrada = []\n",
    "        for app in self.corpo:\n",
    "            preco = app[indicePreco]\n",
    "            if preco == '0':\n",
    "                listaFiltrada.append(app)\n",
    "        \n",
    "        self.corpo = listaFiltrada\n",
    "        self.imprimirDados(0, 5)\n",
    "        self.tamanhoMatrizDeDados()\n",
    "        \n",
    "    def tabelaFrequencia(self, indice):\n",
    "        tabela = {}\n",
    "        total = 0\n",
    "        for app in self.corpo:\n",
    "            atributo = app[indice]\n",
    "            if atributo in tabela:\n",
    "                tabela[atributo] += 1\n",
    "            else:\n",
    "                tabela[atributo] = 1\n",
    "            total += 1\n",
    "\n",
    "        tabelaPorcentagens = {}\n",
    "        for key in tabela:\n",
    "            porcentagem = (tabela[key] / total) * 100\n",
    "            tabelaPorcentagens[key] = porcentagem \n",
    "\n",
    "        return tabelaPorcentagens\n",
    "    \n",
    "    def tabelaDisplay(self, indice):\n",
    "        tabela = self.tabelaFrequencia(indice)\n",
    "        tabelaDisplay = []\n",
    "        for key in tabela:\n",
    "            tuplaKeyValor = (tabela[key], key)\n",
    "            tabelaDisplay.append(tuplaKeyValor)\n",
    "\n",
    "        tabelaOrdenada = sorted(tabelaDisplay, reverse = True)\n",
    "        for app in tabelaOrdenada:\n",
    "            print(app[1], ':', app[0])"
   ]
  },
  {
   "cell_type": "markdown",
   "id": "615b9305",
   "metadata": {},
   "source": [
    "## Abertura e leitura dos arquivos contendo os dados"
   ]
  },
  {
   "cell_type": "code",
   "execution_count": 2,
   "id": "08c4c2b8",
   "metadata": {
    "scrolled": false
   },
   "outputs": [
    {
     "name": "stdout",
     "output_type": "stream",
     "text": [
      "['1', '281656475', 'PAC-MAN Premium', '100788224', 'USD', '3.99', '21292', '26', '4', '4.5', '6.3.5', '4+', 'Games', '38', '5', '10', '1']\n",
      "\n",
      "\n",
      "['2', '281796108', 'Evernote - stay organized', '158578688', 'USD', '0', '161065', '26', '4', '3.5', '8.2.2', '4+', 'Productivity', '37', '5', '23', '1']\n",
      "\n",
      "\n",
      "['3', '281940292', 'WeatherBug - Local Weather, Radar, Maps, Alerts', '100524032', 'USD', '0', '188583', '2822', '3.5', '4.5', '5.0.0', '4+', 'Weather', '37', '5', '3', '1']\n",
      "\n",
      "\n",
      "['4', '282614216', 'eBay: Best App to Buy, Sell, Save! Online Shopping', '128512000', 'USD', '0', '262241', '649', '4', '4.5', '5.10.0', '12+', 'Shopping', '37', '5', '9', '1']\n",
      "\n",
      "\n",
      "['5', '282935706', 'Bible', '92774400', 'USD', '0', '985920', '5320', '4.5', '5', '7.5.1', '4+', 'Reference', '37', '5', '45', '1']\n",
      "\n",
      "\n",
      "Numero de linhas: 7197\n",
      "Numero de colunas: 17\n"
     ]
    }
   ],
   "source": [
    "dadosIOS = Dados('AppleStore.csv')\n",
    "dadosIOS.imprimirDados(0, 5)\n",
    "dadosIOS.tamanhoMatrizDeDados()"
   ]
  },
  {
   "cell_type": "code",
   "execution_count": 3,
   "id": "6ae27d83",
   "metadata": {
    "scrolled": true
   },
   "outputs": [
    {
     "name": "stdout",
     "output_type": "stream",
     "text": [
      "['Photo Editor & Candy Camera & Grid & ScrapBook', 'ART_AND_DESIGN', '4.1', '159', '19M', '10,000+', 'Free', '0', 'Everyone', 'Art & Design', 'January 7, 2018', '1.0.0', '4.0.3 and up']\n",
      "\n",
      "\n",
      "['Coloring book moana', 'ART_AND_DESIGN', '3.9', '967', '14M', '500,000+', 'Free', '0', 'Everyone', 'Art & Design;Pretend Play', 'January 15, 2018', '2.0.0', '4.0.3 and up']\n",
      "\n",
      "\n",
      "['U Launcher Lite – FREE Live Cool Themes, Hide Apps', 'ART_AND_DESIGN', '4.7', '87510', '8.7M', '5,000,000+', 'Free', '0', 'Everyone', 'Art & Design', 'August 1, 2018', '1.2.4', '4.0.3 and up']\n",
      "\n",
      "\n",
      "['Sketch - Draw & Paint', 'ART_AND_DESIGN', '4.5', '215644', '25M', '50,000,000+', 'Free', '0', 'Teen', 'Art & Design', 'June 8, 2018', 'Varies with device', '4.2 and up']\n",
      "\n",
      "\n",
      "['Pixel Draw - Number Art Coloring Book', 'ART_AND_DESIGN', '4.3', '967', '2.8M', '100,000+', 'Free', '0', 'Everyone', 'Art & Design;Creativity', 'June 20, 2018', '1.1', '4.4 and up']\n",
      "\n",
      "\n",
      "Numero de linhas: 10841\n",
      "Numero de colunas: 13\n"
     ]
    }
   ],
   "source": [
    "dadosANDROID = Dados('googleplaystore.csv')\n",
    "dadosANDROID.imprimirDados(0, 5)\n",
    "dadosANDROID.tamanhoMatrizDeDados()"
   ]
  },
  {
   "cell_type": "markdown",
   "id": "073fb3a9",
   "metadata": {},
   "source": [
    "## Filtragem dos dados"
   ]
  },
  {
   "cell_type": "markdown",
   "id": "4ad0c3b7",
   "metadata": {},
   "source": [
    "### Remoção de apps com incosistencias"
   ]
  },
  {
   "cell_type": "markdown",
   "id": "69a0a1b8",
   "metadata": {},
   "source": [
    "Antes de analisarmos os dados é importante cogitar a possibilidade de linhas com dados errados, que devem ser removidas afim de não \"corromper\" nossa analise. Para isso utilizamos o metodo \"identificarLinhasErradas()\" que vai comparar o numero de colunas de cada linha com o numero de colunas do cabeçalho."
   ]
  },
  {
   "cell_type": "code",
   "execution_count": 4,
   "id": "a1056b4c",
   "metadata": {},
   "outputs": [
    {
     "name": "stdout",
     "output_type": "stream",
     "text": [
      "Linha : 10472 \n",
      "\n"
     ]
    }
   ],
   "source": [
    "dadosANDROID.identificarLinhasErradas()\n",
    "dadosIOS.identificarLinhasErradas()"
   ]
  },
  {
   "cell_type": "markdown",
   "id": "0fc399a6",
   "metadata": {},
   "source": [
    "Ao executar o comando para ambas as listas de dados apenas o arquivo com os aplicativos android apresentou uma linha \"corrompida\". Para elimina-la utilizaremos o metodo deletarLinha(). "
   ]
  },
  {
   "cell_type": "code",
   "execution_count": 5,
   "id": "e2278f04",
   "metadata": {},
   "outputs": [
    {
     "name": "stdout",
     "output_type": "stream",
     "text": [
      "Numero de linhas: 10841\n",
      "Numero de colunas: 13\n",
      "Deleção realizada\n",
      "Numero de linhas: 10840\n",
      "Numero de colunas: 13\n"
     ]
    }
   ],
   "source": [
    "dadosANDROID.tamanhoMatrizDeDados()\n",
    "dadosANDROID.deletarLinha(10472)\n",
    "print('Deleção realizada')\n",
    "dadosANDROID.tamanhoMatrizDeDados()"
   ]
  },
  {
   "cell_type": "markdown",
   "id": "5302e729",
   "metadata": {},
   "source": [
    "### Removendo apps duplicados"
   ]
  },
  {
   "cell_type": "markdown",
   "id": "0ed4f270",
   "metadata": {},
   "source": [
    "Removidas as linhas problemáticas, outro fator com que devemos nos preocupar é com aplicativos duplicados, já que queremos fazer uma analise a partir de dados unicos. Dessa forma, inicialmente devemos identificar esses aplicativos, vamos fazer isso através do método \"identificarAppsDuplicados()\"."
   ]
  },
  {
   "cell_type": "code",
   "execution_count": 6,
   "id": "de192bc8",
   "metadata": {},
   "outputs": [
    {
     "name": "stdout",
     "output_type": "stream",
     "text": [
      "Apps ANDROID duplicados: \n",
      "\n",
      "Quantidade de aplicativos duplicados:  1181\n",
      "\n",
      "\n",
      "Examplo de apps duplicados:  ['Quick PDF Scanner + OCR FREE', 'Box', 'Google My Business', 'ZOOM Cloud Meetings', 'join.me - Simple Meetings', 'Box', 'Zenefits', 'Google Ads', 'Google My Business', 'Slack', 'FreshBooks Classic', 'Insightly CRM', 'QuickBooks Accounting: Invoicing & Expenses', 'HipChat - Chat Built for Teams', 'Xero Accounting Software']\n",
      "----------------------------------------\n",
      "Apps IOS duplicados: \n",
      "\n",
      "Quantidade de aplicativos duplicados:  0\n",
      "\n",
      "\n",
      "Examplo de apps duplicados:  []\n"
     ]
    }
   ],
   "source": [
    "print('Apps ANDROID duplicados: \\n')\n",
    "dadosANDROID.identificarAppsDuplicados()\n",
    "print('----------------------------------------')\n",
    "print('Apps IOS duplicados: \\n')\n",
    "dadosIOS.identificarAppsDuplicados()"
   ]
  },
  {
   "cell_type": "markdown",
   "id": "1e2b5e33",
   "metadata": {},
   "source": [
    "Percebemos que apenas os aplicativos do Google Play(ANDROID) apresentam apps duplicados, sendo assim, devemos eliminar as copias dos apps duplicados afim que sejam unicos na lista. Se verificarmos os dados, embora possuam o mesmo nome, alguns aplicativos duplicados possuem informações diferentes, sendo assim é necessário pensar estrategicamente em quais linhas vao ser mantidas de forma a deixar aquela que ofereça mais precisão à nossa analise. Uma das formas de fazer essa seleção é identificando, entre os aplicativos duplicados, quais tem mais avaliação, mantendo-os na lista."
   ]
  },
  {
   "cell_type": "code",
   "execution_count": 7,
   "id": "99767c2c",
   "metadata": {},
   "outputs": [
    {
     "name": "stdout",
     "output_type": "stream",
     "text": [
      "Tamanho esperado considerando a remoção dos apps duplicados: 9659\n",
      "Tamanho atual: 9659\n"
     ]
    }
   ],
   "source": [
    "dadosANDROID.identificarAppsMaiorAvaliacao()\n"
   ]
  },
  {
   "cell_type": "markdown",
   "id": "b729355d",
   "metadata": {},
   "source": [
    "Filtrados os aplicativos de maior avaliação, os temos armazenados em um dicionario, a partir deste dicionario vamos adicionar os aplicativos a nossa lista de forma que ela fique atualizada apenas com os aplicativos unicos. Faremos essa alteração a partir do metodo \"filtrarAplicativosMaiorAvaliacao()\"."
   ]
  },
  {
   "cell_type": "code",
   "execution_count": 8,
   "id": "ef745f2b",
   "metadata": {
    "scrolled": false
   },
   "outputs": [
    {
     "name": "stdout",
     "output_type": "stream",
     "text": [
      "['Photo Editor & Candy Camera & Grid & ScrapBook', 'ART_AND_DESIGN', '4.1', '159', '19M', '10,000+', 'Free', '0', 'Everyone', 'Art & Design', 'January 7, 2018', '1.0.0', '4.0.3 and up']\n",
      "\n",
      "\n",
      "['U Launcher Lite – FREE Live Cool Themes, Hide Apps', 'ART_AND_DESIGN', '4.7', '87510', '8.7M', '5,000,000+', 'Free', '0', 'Everyone', 'Art & Design', 'August 1, 2018', '1.2.4', '4.0.3 and up']\n",
      "\n",
      "\n",
      "['Sketch - Draw & Paint', 'ART_AND_DESIGN', '4.5', '215644', '25M', '50,000,000+', 'Free', '0', 'Teen', 'Art & Design', 'June 8, 2018', 'Varies with device', '4.2 and up']\n",
      "\n",
      "\n",
      "['Pixel Draw - Number Art Coloring Book', 'ART_AND_DESIGN', '4.3', '967', '2.8M', '100,000+', 'Free', '0', 'Everyone', 'Art & Design;Creativity', 'June 20, 2018', '1.1', '4.4 and up']\n",
      "\n",
      "\n",
      "['Paper flowers instructions', 'ART_AND_DESIGN', '4.4', '167', '5.6M', '50,000+', 'Free', '0', 'Everyone', 'Art & Design', 'March 26, 2017', '1.0', '2.3 and up']\n",
      "\n",
      "\n",
      "Numero de linhas: 9659\n",
      "Numero de colunas: 13\n"
     ]
    }
   ],
   "source": [
    "dadosANDROID.filtrarAplicativosMaiorAvaliacao()"
   ]
  },
  {
   "cell_type": "markdown",
   "id": "91d88a88",
   "metadata": {},
   "source": [
    "Outro fator possivel de se observar no codigo é a presença de aplicativos em outras linguas fora o ingles. Para este projeto vamos padronizar a analise levantando apenas os que estão com o titulo em inglês. Para isso foi desenvolvido um algoritmo utilizado para saber se o nome do aplicativo possui algum caracter fora do padrao ingles. No python podemos fazer isso atraves da função \"ord\" que identifica a posição de um caracter na memoria e o numera. Para python, os caracteres comuns na lingua inglesa sao numerados até o 127, referenciando a tabela ascii, sendo assim, consideraremos os caracteres adiante como \"estrangeiros\". Embora seja uma boa logica temos que usa-la com cautela ja que alguns nomes de apps possuem caracteres de estilização, que seriam confundidos pelo algoritmo com apps estrangeiros.\n",
    "Para evitar que aplicativos que possuam caracteres estranhos de estilização, limitamos esse numero de caracteres a 3."
   ]
  },
  {
   "cell_type": "markdown",
   "id": "7ce2db70",
   "metadata": {},
   "source": [
    "### Removendo apps \"Estrangeiros\""
   ]
  },
  {
   "cell_type": "code",
   "execution_count": 9,
   "id": "2739090f",
   "metadata": {
    "scrolled": false
   },
   "outputs": [
    {
     "name": "stdout",
     "output_type": "stream",
     "text": [
      "Apps ANDROID em ingles: \n",
      "\n",
      "['Photo Editor & Candy Camera & Grid & ScrapBook', 'ART_AND_DESIGN', '4.1', '159', '19M', '10,000+', 'Free', '0', 'Everyone', 'Art & Design', 'January 7, 2018', '1.0.0', '4.0.3 and up']\n",
      "\n",
      "\n",
      "['U Launcher Lite – FREE Live Cool Themes, Hide Apps', 'ART_AND_DESIGN', '4.7', '87510', '8.7M', '5,000,000+', 'Free', '0', 'Everyone', 'Art & Design', 'August 1, 2018', '1.2.4', '4.0.3 and up']\n",
      "\n",
      "\n",
      "['Sketch - Draw & Paint', 'ART_AND_DESIGN', '4.5', '215644', '25M', '50,000,000+', 'Free', '0', 'Teen', 'Art & Design', 'June 8, 2018', 'Varies with device', '4.2 and up']\n",
      "\n",
      "\n",
      "['Pixel Draw - Number Art Coloring Book', 'ART_AND_DESIGN', '4.3', '967', '2.8M', '100,000+', 'Free', '0', 'Everyone', 'Art & Design;Creativity', 'June 20, 2018', '1.1', '4.4 and up']\n",
      "\n",
      "\n",
      "['Paper flowers instructions', 'ART_AND_DESIGN', '4.4', '167', '5.6M', '50,000+', 'Free', '0', 'Everyone', 'Art & Design', 'March 26, 2017', '1.0', '2.3 and up']\n",
      "\n",
      "\n",
      "Numero de linhas: 9614\n",
      "Numero de colunas: 13\n",
      "\n",
      " ----------------------------------------------------------------- \n",
      "\n",
      "Apps IOS em ingles: \n",
      "\n",
      "['1', '281656475', 'PAC-MAN Premium', '100788224', 'USD', '3.99', '21292', '26', '4', '4.5', '6.3.5', '4+', 'Games', '38', '5', '10', '1']\n",
      "\n",
      "\n",
      "['2', '281796108', 'Evernote - stay organized', '158578688', 'USD', '0', '161065', '26', '4', '3.5', '8.2.2', '4+', 'Productivity', '37', '5', '23', '1']\n",
      "\n",
      "\n",
      "['3', '281940292', 'WeatherBug - Local Weather, Radar, Maps, Alerts', '100524032', 'USD', '0', '188583', '2822', '3.5', '4.5', '5.0.0', '4+', 'Weather', '37', '5', '3', '1']\n",
      "\n",
      "\n",
      "['4', '282614216', 'eBay: Best App to Buy, Sell, Save! Online Shopping', '128512000', 'USD', '0', '262241', '649', '4', '4.5', '5.10.0', '12+', 'Shopping', '37', '5', '9', '1']\n",
      "\n",
      "\n",
      "['5', '282935706', 'Bible', '92774400', 'USD', '0', '985920', '5320', '4.5', '5', '7.5.1', '4+', 'Reference', '37', '5', '45', '1']\n",
      "\n",
      "\n",
      "Numero de linhas: 6183\n",
      "Numero de colunas: 17\n"
     ]
    }
   ],
   "source": [
    "print(\"Apps ANDROID em ingles: \\n\")\n",
    "dadosANDROID.removerAppsEstrangeiros(0)\n",
    "print(\"\\n ----------------------------------------------------------------- \\n\")\n",
    "print(\"Apps IOS em ingles: \\n\")\n",
    "dadosIOS.removerAppsEstrangeiros(2)"
   ]
  },
  {
   "cell_type": "markdown",
   "id": "a3727c22",
   "metadata": {},
   "source": [
    "### Removendo apps pagos"
   ]
  },
  {
   "cell_type": "markdown",
   "id": "5740ad83",
   "metadata": {},
   "source": [
    "Por fim, uma ultima filtragem que queremos fazer é no valor dos apps, como queremos visar a quantidade de downloads do nosso app é interessante que ele seja gratuito, dessa forma vamos filtrar apenas os apps gratuitos das plataformas. O algoritmo para esse filtro é simples, basicamente as colunas de preço serão checadas app por app e comparadas ao valor '0' que indica que o app é gratuito. Esse algoritmo sera implementado no metodo \"filtroAppsGratuitos()\""
   ]
  },
  {
   "cell_type": "code",
   "execution_count": 10,
   "id": "5467c5c4",
   "metadata": {
    "scrolled": false
   },
   "outputs": [
    {
     "name": "stdout",
     "output_type": "stream",
     "text": [
      "Lista final de APPS ANDROID: \n",
      "\n",
      "['Photo Editor & Candy Camera & Grid & ScrapBook', 'ART_AND_DESIGN', '4.1', '159', '19M', '10,000+', 'Free', '0', 'Everyone', 'Art & Design', 'January 7, 2018', '1.0.0', '4.0.3 and up']\n",
      "\n",
      "\n",
      "['U Launcher Lite – FREE Live Cool Themes, Hide Apps', 'ART_AND_DESIGN', '4.7', '87510', '8.7M', '5,000,000+', 'Free', '0', 'Everyone', 'Art & Design', 'August 1, 2018', '1.2.4', '4.0.3 and up']\n",
      "\n",
      "\n",
      "['Sketch - Draw & Paint', 'ART_AND_DESIGN', '4.5', '215644', '25M', '50,000,000+', 'Free', '0', 'Teen', 'Art & Design', 'June 8, 2018', 'Varies with device', '4.2 and up']\n",
      "\n",
      "\n",
      "['Pixel Draw - Number Art Coloring Book', 'ART_AND_DESIGN', '4.3', '967', '2.8M', '100,000+', 'Free', '0', 'Everyone', 'Art & Design;Creativity', 'June 20, 2018', '1.1', '4.4 and up']\n",
      "\n",
      "\n",
      "['Paper flowers instructions', 'ART_AND_DESIGN', '4.4', '167', '5.6M', '50,000+', 'Free', '0', 'Everyone', 'Art & Design', 'March 26, 2017', '1.0', '2.3 and up']\n",
      "\n",
      "\n",
      "Numero de linhas: 8864\n",
      "Numero de colunas: 13\n",
      "\n",
      " ----------------------------------------------------------------- \n",
      "\n",
      "Lista final de APPS IOS: \n",
      "\n",
      "['2', '281796108', 'Evernote - stay organized', '158578688', 'USD', '0', '161065', '26', '4', '3.5', '8.2.2', '4+', 'Productivity', '37', '5', '23', '1']\n",
      "\n",
      "\n",
      "['3', '281940292', 'WeatherBug - Local Weather, Radar, Maps, Alerts', '100524032', 'USD', '0', '188583', '2822', '3.5', '4.5', '5.0.0', '4+', 'Weather', '37', '5', '3', '1']\n",
      "\n",
      "\n",
      "['4', '282614216', 'eBay: Best App to Buy, Sell, Save! Online Shopping', '128512000', 'USD', '0', '262241', '649', '4', '4.5', '5.10.0', '12+', 'Shopping', '37', '5', '9', '1']\n",
      "\n",
      "\n",
      "['5', '282935706', 'Bible', '92774400', 'USD', '0', '985920', '5320', '4.5', '5', '7.5.1', '4+', 'Reference', '37', '5', '45', '1']\n",
      "\n",
      "\n",
      "['7', '283646709', 'PayPal - Send and request money safely', '227795968', 'USD', '0', '119487', '879', '4', '4.5', '6.12.0', '4+', 'Finance', '37', '0', '19', '1']\n",
      "\n",
      "\n",
      "Numero de linhas: 3222\n",
      "Numero de colunas: 17\n"
     ]
    }
   ],
   "source": [
    "print(\"Lista final de APPS ANDROID: \\n\")\n",
    "dadosANDROID.filtroAppsGratuitos(7)\n",
    "print(\"\\n ----------------------------------------------------------------- \\n\")\n",
    "print(\"Lista final de APPS IOS: \\n\")\n",
    "dadosIOS.filtroAppsGratuitos(5)"
   ]
  },
  {
   "cell_type": "markdown",
   "id": "84604f3f",
   "metadata": {},
   "source": [
    "## Análise dos dados filtrados"
   ]
  },
  {
   "cell_type": "markdown",
   "id": "c866fd9c",
   "metadata": {},
   "source": [
    "Feita a limpeza nos dados, é necessário analisa-los para entender que tipo de aplicativo atende mais à demanda do mercado, atraindo mais usuários, e, consequentemente, mais lucro ao desenvolvedor. \n",
    "Uma das formas é observar as colunas que indicam sobre o que o aplicativo se trata. Para os dados da APP STORE temos a coluna \"prime_genre\", e no GOOGLE PLAY as colunas de Genre e Category. Tais atributos vão nos ajudar a identificar que tipos de aplicativos são mais desenvolvidos nas plataformas.\n",
    "Para isso, será necessário um algoritmo reponsável por identificar com que frequencia certo atributo se repete na tabela. A partir da frequencia é possivel saber a porcentagem de cada elemento da coluna, podendo assim, identificar os elementos mais frequentes nas plataformas de download."
   ]
  },
  {
   "cell_type": "code",
   "execution_count": 13,
   "id": "419333ba",
   "metadata": {},
   "outputs": [
    {
     "name": "stdout",
     "output_type": "stream",
     "text": [
      "\n",
      "APPS android ordenados com base na frequencia\n",
      "\n",
      "FAMILY : 18.907942238267147\n",
      "GAME : 9.724729241877256\n",
      "TOOLS : 8.461191335740072\n",
      "BUSINESS : 4.591606498194946\n",
      "LIFESTYLE : 3.9034296028880866\n",
      "PRODUCTIVITY : 3.892148014440433\n",
      "FINANCE : 3.7003610108303246\n",
      "MEDICAL : 3.531137184115524\n",
      "SPORTS : 3.395758122743682\n",
      "PERSONALIZATION : 3.3167870036101084\n",
      "COMMUNICATION : 3.2378158844765346\n",
      "HEALTH_AND_FITNESS : 3.0798736462093865\n",
      "PHOTOGRAPHY : 2.944494584837545\n",
      "NEWS_AND_MAGAZINES : 2.7978339350180503\n",
      "SOCIAL : 2.6624548736462095\n",
      "TRAVEL_AND_LOCAL : 2.33528880866426\n",
      "SHOPPING : 2.2450361010830324\n",
      "BOOKS_AND_REFERENCE : 2.1435018050541514\n",
      "DATING : 1.861462093862816\n",
      "VIDEO_PLAYERS : 1.7937725631768955\n",
      "MAPS_AND_NAVIGATION : 1.3989169675090252\n",
      "FOOD_AND_DRINK : 1.2409747292418771\n",
      "EDUCATION : 1.1620036101083033\n",
      "ENTERTAINMENT : 0.9589350180505415\n",
      "LIBRARIES_AND_DEMO : 0.9363718411552346\n",
      "AUTO_AND_VEHICLES : 0.9250902527075812\n",
      "HOUSE_AND_HOME : 0.8235559566787004\n",
      "WEATHER : 0.8009927797833934\n",
      "EVENTS : 0.7107400722021661\n",
      "PARENTING : 0.6543321299638989\n",
      "ART_AND_DESIGN : 0.6430505415162455\n",
      "COMICS : 0.6204873646209386\n",
      "BEAUTY : 0.5979241877256317\n",
      "\n",
      " ----------------------------------------------------------------- \n",
      "\n",
      "APPS IOS ordenados com base na frequencia\n",
      "\n",
      "Games : 58.16263190564867\n",
      "Entertainment : 7.883302296710118\n",
      "Photo & Video : 4.9658597144630665\n",
      "Education : 3.662321539416512\n",
      "Social Networking : 3.2898820608317814\n",
      "Shopping : 2.60707635009311\n",
      "Utilities : 2.5139664804469275\n",
      "Sports : 2.1415270018621975\n",
      "Music : 2.0484171322160147\n",
      "Health & Fitness : 2.0173805090006205\n",
      "Productivity : 1.7380509000620732\n",
      "Lifestyle : 1.5828677839851024\n",
      "News : 1.3345747982619491\n",
      "Travel : 1.2414649286157666\n",
      "Finance : 1.1173184357541899\n",
      "Weather : 0.8690254500310366\n",
      "Food & Drink : 0.8069522036002483\n",
      "Reference : 0.5586592178770949\n",
      "Business : 0.5276225946617008\n",
      "Book : 0.4345127250155183\n",
      "Navigation : 0.186219739292365\n",
      "Medical : 0.186219739292365\n",
      "Catalogs : 0.12414649286157665\n"
     ]
    }
   ],
   "source": [
    "print(\"\\nAPPS android ordenados com base na frequencia\\n\")\n",
    "dadosANDROID.tabelaDisplay(1)\n",
    "print(\"\\n ----------------------------------------------------------------- \\n\")\n",
    "print(\"APPS IOS ordenados com base na frequencia\\n\")\n",
    "dadosIOS.tabelaDisplay(-5)"
   ]
  },
  {
   "cell_type": "markdown",
   "id": "c33f5776",
   "metadata": {},
   "source": [
    "Enquanto a APP STORE mostrou uma predominancia clara em aplicativos voltadas para o entretenimento e jogos, no Google Play vimos que isso não se repete exatamente, apresentando um vasto catalogo de aplicativos voltados em ferramentas para bem star e produtividade. \n",
    "Mas apenas verificar que tipo de app é mais desenvolvido para as plataformas não indica diretamente o tipo de app mais procurado pelos usuários. Tendo em vista isso, uma boa alternativa é saber quais dessas categorias são mais baixadas pelos usuarios, e podemos fazer isso a partir da coluna \"installs\" no google play, que indica a quantidade de vezes que um app foi instalado, e \"rating_count_tot\" na App Store, que indica a quantidade de vezes que um app foi avaliado."
   ]
  }
 ],
 "metadata": {
  "kernelspec": {
   "display_name": "Python 3 (ipykernel)",
   "language": "python",
   "name": "python3"
  },
  "language_info": {
   "codemirror_mode": {
    "name": "ipython",
    "version": 3
   },
   "file_extension": ".py",
   "mimetype": "text/x-python",
   "name": "python",
   "nbconvert_exporter": "python",
   "pygments_lexer": "ipython3",
   "version": "3.9.7"
  }
 },
 "nbformat": 4,
 "nbformat_minor": 5
}
