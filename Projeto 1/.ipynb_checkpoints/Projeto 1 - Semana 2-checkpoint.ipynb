{
 "cells": [
  {
   "cell_type": "markdown",
   "id": "d1ee5710",
   "metadata": {},
   "source": [
    "    Para encapsular as funções que manipulam os dados, foi criada uma classe denominada de \"Dados\" que conta com os métodos necessários para polir e extrair as informações que precisamimos para a analise dos dados."
   ]
  },
  {
   "cell_type": "code",
   "execution_count": 56,
   "id": "94ab6793",
   "metadata": {},
   "outputs": [],
   "source": [
    "from csv import reader\n",
    "class Dados():\n",
    "    \n",
    "    def __init__(self, nomeArquivo):\n",
    "        arquivoAberto = open(nomeArquivo,encoding='utf8')\n",
    "        arquivoLido = reader(arquivoAberto)\n",
    "        listaCompleta = list(arquivoLido)\n",
    "        self.cabecalho = listaCompleta[0]\n",
    "        self.corpo = listaCompleta[1:]\n",
    "    \n",
    "\n",
    "    def imprimirDados(self, comeco, fim):\n",
    "        parte_dos_dados = self.corpo[comeco:fim]    \n",
    "        for row in parte_dos_dados:\n",
    "            print(row)\n",
    "            print('\\n')\n",
    "    \n",
    "    def tamanhoMatrizDeDados(self):\n",
    "        print('Numero de linhas:', len(dados.corpo))\n",
    "        print('Numero de colunas:', len(dados.corpo[0]))\n",
    "    \n",
    "    def identificarLinhasErradas(self):\n",
    "        for row in dados.corpo:\n",
    "            if len(row) !=len(self.cabecalho):\n",
    "                print('Linha :', (self.corpo).index(row), '\\n')\n",
    "    \n",
    "    def deletarLinha(self, linha):\n",
    "        del self.corpo[line]"
   ]
  },
  {
   "cell_type": "code",
   "execution_count": 64,
   "id": "a22bf19b",
   "metadata": {},
   "outputs": [
    {
     "name": "stdout",
     "output_type": "stream",
     "text": [
      "['1', '281656475', 'PAC-MAN Premium', '100788224', 'USD', '3.99', '21292', '26', '4', '4.5', '6.3.5', '4+', 'Games', '38', '5', '10', '1']\n",
      "\n",
      "\n",
      "['2', '281796108', 'Evernote - stay organized', '158578688', 'USD', '0', '161065', '26', '4', '3.5', '8.2.2', '4+', 'Productivity', '37', '5', '23', '1']\n",
      "\n",
      "\n",
      "['3', '281940292', 'WeatherBug - Local Weather, Radar, Maps, Alerts', '100524032', 'USD', '0', '188583', '2822', '3.5', '4.5', '5.0.0', '4+', 'Weather', '37', '5', '3', '1']\n",
      "\n",
      "\n",
      "['4', '282614216', 'eBay: Best App to Buy, Sell, Save! Online Shopping', '128512000', 'USD', '0', '262241', '649', '4', '4.5', '5.10.0', '12+', 'Shopping', '37', '5', '9', '1']\n",
      "\n",
      "\n",
      "['5', '282935706', 'Bible', '92774400', 'USD', '0', '985920', '5320', '4.5', '5', '7.5.1', '4+', 'Reference', '37', '5', '45', '1']\n",
      "\n",
      "\n"
     ]
    }
   ],
   "source": [
    "dadosIOS = Dados('AppleStore.csv')\n",
    "dadosIOS.imprimirDados(0, 5)"
   ]
  },
  {
   "cell_type": "code",
   "execution_count": 62,
   "id": "cec38450",
   "metadata": {},
   "outputs": [
    {
     "name": "stdout",
     "output_type": "stream",
     "text": [
      "['Photo Editor & Candy Camera & Grid & ScrapBook', 'ART_AND_DESIGN', '4.1', '159', '19M', '10,000+', 'Free', '0', 'Everyone', 'Art & Design', 'January 7, 2018', '1.0.0', '4.0.3 and up']\n",
      "\n",
      "\n",
      "['Coloring book moana', 'ART_AND_DESIGN', '3.9', '967', '14M', '500,000+', 'Free', '0', 'Everyone', 'Art & Design;Pretend Play', 'January 15, 2018', '2.0.0', '4.0.3 and up']\n",
      "\n",
      "\n",
      "['U Launcher Lite – FREE Live Cool Themes, Hide Apps', 'ART_AND_DESIGN', '4.7', '87510', '8.7M', '5,000,000+', 'Free', '0', 'Everyone', 'Art & Design', 'August 1, 2018', '1.2.4', '4.0.3 and up']\n",
      "\n",
      "\n",
      "['Sketch - Draw & Paint', 'ART_AND_DESIGN', '4.5', '215644', '25M', '50,000,000+', 'Free', '0', 'Teen', 'Art & Design', 'June 8, 2018', 'Varies with device', '4.2 and up']\n",
      "\n",
      "\n",
      "['Pixel Draw - Number Art Coloring Book', 'ART_AND_DESIGN', '4.3', '967', '2.8M', '100,000+', 'Free', '0', 'Everyone', 'Art & Design;Creativity', 'June 20, 2018', '1.1', '4.4 and up']\n",
      "\n",
      "\n"
     ]
    }
   ],
   "source": [
    "dadosANDROID = Dados('googleplaystore.csv')\n",
    "dadosANDROID.imprimirDados(0, 5)"
   ]
  },
  {
   "cell_type": "code",
   "execution_count": null,
   "id": "37b8f884",
   "metadata": {},
   "outputs": [],
   "source": []
  }
 ],
 "metadata": {
  "kernelspec": {
   "display_name": "Python 3 (ipykernel)",
   "language": "python",
   "name": "python3"
  },
  "language_info": {
   "codemirror_mode": {
    "name": "ipython",
    "version": 3
   },
   "file_extension": ".py",
   "mimetype": "text/x-python",
   "name": "python",
   "nbconvert_exporter": "python",
   "pygments_lexer": "ipython3",
   "version": "3.9.7"
  }
 },
 "nbformat": 4,
 "nbformat_minor": 5
}
