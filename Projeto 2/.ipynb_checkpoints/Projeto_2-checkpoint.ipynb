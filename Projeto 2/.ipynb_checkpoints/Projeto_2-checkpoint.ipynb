{
 "cells": [
  {
   "cell_type": "markdown",
   "id": "71ea60c7",
   "metadata": {},
   "source": [
    "# Complexidade de algoritmos"
   ]
  },
  {
   "cell_type": "markdown",
   "id": "1bc7c610",
   "metadata": {},
   "source": [
    "A seguinte tarefa como base uma função que realiza a soma de dois elementos de uma matriz, sendo esta função de complexidade quadrática. A fim de diminuir esse nível de complexidade, foi proposta a reformulação dessa função, a partir de um algoritmo de complexidade linear."
   ]
  },
  {
   "cell_type": "markdown",
   "id": "9e7c4710",
   "metadata": {},
   "source": [
    "### Código inicial de complexidade quadrática"
   ]
  },
  {
   "cell_type": "code",
   "execution_count": null,
   "id": "e5c28a50",
   "metadata": {},
   "outputs": [],
   "source": [
    "def twoNumberSum(array, targetSum):\n",
    "    \n",
    "    for i in range(len(array) - 1):\n",
    "        firstNum = array[i]\n",
    "        for j in range (i+1, len(array)):\n",
    "            secondNum = array[j]\n",
    "            if firstNum + secondNum == targetSum:\n",
    "                return [firstNum, secondNum]\n",
    "    return []"
   ]
  },
  {
   "cell_type": "markdown",
   "id": "ee30e1ab",
   "metadata": {},
   "source": [
    "### Código aprimorado de Complexidade Linear"
   ]
  },
  {
   "cell_type": "markdown",
   "id": "bfdd1e39",
   "metadata": {},
   "source": [
    "O código aprimorado é baseado na lógica de utilizar uma biblioteca para armazenar os valores do array enquanto a solução real não é encontrada, seguindo a lógica de que já que targetSum = x+y, logo y = targetSum - x. A redução na complexidade ocorre pois não é necessário percorrer todo o vetor a cada iteração, só procurar o valor na biblioteca, que gera um custo bem menor."
   ]
  },
  {
   "cell_type": "code",
   "execution_count": null,
   "id": "613f5013",
   "metadata": {},
   "outputs": [],
   "source": [
    "def twoNumberSum_Linear(array, targetSum):\n",
    "    solution = {}\n",
    "    for x in array:\n",
    "        y = targetSum - x\n",
    "        if y in solution:\n",
    "            return [y,x]\n",
    "        else:\n",
    "            solution[x] = True     \n",
    "    return []"
   ]
  },
  {
   "cell_type": "markdown",
   "id": "18119165",
   "metadata": {},
   "source": [
    "### Testes para validar o algoritmo"
   ]
  },
  {
   "cell_type": "markdown",
   "id": "c6065e78",
   "metadata": {},
   "source": [
    "Para garantir o funcionamento do código, o algoritmo foi submetido a testes para algumas situações específicas. O algoritimo a seguir corresponde ao teste realizado no algoritmo padrão de complexidade quadrática."
   ]
  },
  {
   "cell_type": "code",
   "execution_count": 1,
   "id": "12730c0d",
   "metadata": {},
   "outputs": [
    {
     "name": "stdout",
     "output_type": "stream",
     "text": [
      "Requirement already satisfied: pytest in c:\\programdata\\anaconda3\\lib\\site-packages (6.2.4)\n",
      "Requirement already satisfied: pytest-sugar in c:\\programdata\\anaconda3\\lib\\site-packages (0.9.5)\n",
      "Requirement already satisfied: attrs>=19.2.0 in c:\\programdata\\anaconda3\\lib\\site-packages (from pytest) (21.2.0)\n",
      "Requirement already satisfied: iniconfig in c:\\programdata\\anaconda3\\lib\\site-packages (from pytest) (1.1.1)\n",
      "Requirement already satisfied: packaging in c:\\programdata\\anaconda3\\lib\\site-packages (from pytest) (21.0)\n",
      "Requirement already satisfied: pluggy<1.0.0a1,>=0.12 in c:\\programdata\\anaconda3\\lib\\site-packages (from pytest) (0.13.1)\n",
      "Requirement already satisfied: py>=1.8.2 in c:\\programdata\\anaconda3\\lib\\site-packages (from pytest) (1.10.0)\n",
      "Requirement already satisfied: toml in c:\\programdata\\anaconda3\\lib\\site-packages (from pytest) (0.10.2)\n",
      "Requirement already satisfied: atomicwrites>=1.0 in c:\\programdata\\anaconda3\\lib\\site-packages (from pytest) (1.4.0)\n",
      "Requirement already satisfied: colorama in c:\\programdata\\anaconda3\\lib\\site-packages (from pytest) (0.4.4)\n",
      "Requirement already satisfied: termcolor>=1.1.0 in c:\\programdata\\anaconda3\\lib\\site-packages (from pytest-sugar) (2.0.1)\n",
      "Requirement already satisfied: pyparsing>=2.0.2 in c:\\programdata\\anaconda3\\lib\\site-packages (from packaging->pytest) (3.0.4)\n"
     ]
    }
   ],
   "source": [
    "!pip install pytest pytest-sugar"
   ]
  },
  {
   "cell_type": "code",
   "execution_count": 2,
   "id": "7b81d0bc",
   "metadata": {},
   "outputs": [
    {
     "name": "stdout",
     "output_type": "stream",
     "text": [
      "Overwriting test_data_n.py\n"
     ]
    }
   ],
   "source": [
    "%%file test_data_n.py\n",
    "import pytest\n",
    "\n",
    "def twoNumberSum(array, targetSum):\n",
    "    \n",
    "    for i in range(len(array) - 1):\n",
    "        firstNum = array[i]\n",
    "        for j in range (i+1, len(array)):\n",
    "            secondNum = array[j]\n",
    "            if firstNum + secondNum == targetSum:\n",
    "                return [firstNum, secondNum]\n",
    "    return []\n",
    "\n",
    "@pytest.fixture(scope=\"session\")\n",
    "def data():\n",
    "    \n",
    "    array = []\n",
    "    \n",
    "    # test 1 data\n",
    "    array.append([3, 5, -4, 8, 11, 1, -1, 6])\n",
    "\n",
    "    # test 2 data\n",
    "    array.append([4, 6, 1, -3])\n",
    "\n",
    "    # test 3 data\n",
    "    array.append([1, 2, 3, 4, 5, 6, 7, 8, 9, 15])\n",
    "\n",
    "    # test 4 data\n",
    "    array.append([15])\n",
    "\n",
    "    # test 5 data\n",
    "    array.append([-21, 301, 12, 4, 65, 56, 210, 356, 9, -47])\n",
    "\n",
    "    # test 6 data\n",
    "    array.append([-21, 301, 12, 4, 65, 56, 210, 356, 9, -47])\n",
    "\n",
    "    # test 7 data\n",
    "    array.append([-7, -5, -3, -1, 0, 1, 3, 5, 7])\n",
    "    \n",
    "    return array\n",
    "\n",
    "def test_1(data):\n",
    "    \"\"\"\n",
    "    Test evaluation for [3, 5, -4, 8, 11, 1, -1, 6] and target 10\n",
    "    \"\"\"\n",
    "    assert twoNumberSum(data[0],10) == [11,-1]\n",
    "\n",
    "\n",
    "def test_2(data):\n",
    "    \"\"\"\n",
    "    Test evaluation for [4, 6, 1, -3] and target 3\n",
    "    \"\"\"\n",
    "    assert twoNumberSum(data[1],3) == [6,-3]\n",
    "\n",
    "def test_3(data):\n",
    "    \"\"\"\n",
    "    Test evaluation for [1, 2, 3, 4, 5, 6, 7, 8, 9, 15] and target 26\n",
    "    \"\"\"\n",
    "    assert twoNumberSum(data[2],26) == []\n",
    "\n",
    "def test_4(data):\n",
    "    \"\"\"\n",
    "    Test evaluation for [15] and target 15\n",
    "    \"\"\"\n",
    "    assert twoNumberSum(data[3],15) == []\n",
    "\n",
    "def test_5(data):\n",
    "    \"\"\"\n",
    "    Test evaluation for [-21, 301, 12, 4, 65, 56, 210, 356, 9, -47] and target 164\n",
    "    \"\"\"\n",
    "    assert twoNumberSum(data[4],164) == [] \n",
    "\n",
    "def test_6(data):\n",
    "    \"\"\"\n",
    "    Test evaluation for [-21, 301, 12, 4, 65, 56, 210, 356, 9, -47] and target 163\n",
    "    \"\"\"\n",
    "    assert twoNumberSum(data[5],163) == [210, -47] \n",
    "\n",
    "def test_7(data):\n",
    "    \"\"\"\n",
    "    Test evaluation for [-7, -5, -3, -1, 0, 1, 3, 5, 7] and target -5\n",
    "    \"\"\"\n",
    "    assert twoNumberSum(data[6],-5) == [-5, 0]"
   ]
  },
  {
   "cell_type": "code",
   "execution_count": 3,
   "id": "d08a24cb",
   "metadata": {
    "scrolled": false
   },
   "outputs": [
    {
     "name": "stdout",
     "output_type": "stream",
     "text": [
      "============================= test session starts =============================\n",
      "platform win32 -- Python 3.9.7, pytest-6.2.4, py-1.10.0, pluggy-0.13.1 -- C:\\ProgramData\\Anaconda3\\python.exe\n",
      "cachedir: .pytest_cache\n",
      "rootdir: C:\\Users\\Keven Alison\\Documents\\Projetos ED2\\ED2---PROJECTS\\Projeto 2\n",
      "plugins: anyio-2.2.0, sugar-0.9.5\n",
      "collecting ... collected 7 items\n",
      "\n",
      "test_data_n.py::test_1 PASSED                                            [ 14%]\n",
      "test_data_n.py::test_2 PASSED                                            [ 28%]\n",
      "test_data_n.py::test_3 PASSED                                            [ 42%]\n",
      "test_data_n.py::test_4 PASSED                                            [ 57%]\n",
      "test_data_n.py::test_5 PASSED                                            [ 71%]\n",
      "test_data_n.py::test_6 PASSED                                            [ 85%]\n",
      "test_data_n.py::test_7 PASSED                                            [100%]\n",
      "\n",
      "============================== warnings summary ===============================\n",
      "..\\..\\..\\..\\..\\..\\ProgramData\\Anaconda3\\lib\\site-packages\\pyreadline\\py3k_compat.py:8\n",
      "  C:\\ProgramData\\Anaconda3\\lib\\site-packages\\pyreadline\\py3k_compat.py:8: DeprecationWarning: Using or importing the ABCs from 'collections' instead of from 'collections.abc' is deprecated since Python 3.3, and in 3.10 it will stop working\n",
      "    return isinstance(x, collections.Callable)\n",
      "\n",
      "-- Docs: https://docs.pytest.org/en/stable/warnings.html\n",
      "======================== 7 passed, 1 warning in 0.04s =========================\n"
     ]
    }
   ],
   "source": [
    "!pytest . -vv"
   ]
  },
  {
   "cell_type": "code",
   "execution_count": 6,
   "id": "b2e1e541",
   "metadata": {},
   "outputs": [
    {
     "name": "stdout",
     "output_type": "stream",
     "text": [
      "Overwriting test_data_n.py\n"
     ]
    }
   ],
   "source": [
    "%%file test_data_n.py\n",
    "import pytest\n",
    "\n",
    "def twoNumberSum_Linear(array, targetSum):\n",
    "    solution = {}\n",
    "    for x in array:\n",
    "        y = targetSum - x\n",
    "        if y in solution:\n",
    "            return [y,x]\n",
    "        else:\n",
    "            solution[x] = True     \n",
    "    return []\n",
    "\n",
    "@pytest.fixture(scope=\"session\")\n",
    "def data():\n",
    "    \n",
    "    array = []\n",
    "    \n",
    "    # test 1 data\n",
    "    array.append([3, 5, -4, 8, 11, 1, -1, 6])\n",
    "\n",
    "    # test 2 data\n",
    "    array.append([4, 6, 1, -3])\n",
    "\n",
    "    # test 3 data\n",
    "    array.append([1, 2, 3, 4, 5, 6, 7, 8, 9, 15])\n",
    "\n",
    "    # test 4 data\n",
    "    array.append([15])\n",
    "\n",
    "    # test 5 data\n",
    "    array.append([-21, 301, 12, 4, 65, 56, 210, 356, 9, -47])\n",
    "\n",
    "    # test 6 data\n",
    "    array.append([-21, 301, 12, 4, 65, 56, 210, 356, 9, -47])\n",
    "\n",
    "    # test 7 data\n",
    "    array.append([-7, -5, -3, -1, 0, 1, 3, 5, 7])\n",
    "    \n",
    "    return array\n",
    "\n",
    "def test_1(data):\n",
    "    \"\"\"\n",
    "    Test evaluation for [3, 5, -4, 8, 11, 1, -1, 6] and target 10\n",
    "    \"\"\"\n",
    "    assert twoNumberSum_Linear(data[0],10) == [11,-1]\n",
    "\n",
    "\n",
    "def test_2(data):\n",
    "    \"\"\"\n",
    "    Test evaluation for [4, 6, 1, -3] and target 3\n",
    "    \"\"\"\n",
    "    assert twoNumberSum_Linear(data[1],3) == [6,-3]\n",
    "\n",
    "def test_3(data):\n",
    "    \"\"\"\n",
    "    Test evaluation for [1, 2, 3, 4, 5, 6, 7, 8, 9, 15] and target 26\n",
    "    \"\"\"\n",
    "    assert twoNumberSum_Linear(data[2],26) == []\n",
    "\n",
    "def test_4(data):\n",
    "    \"\"\"\n",
    "    Test evaluation for [15] and target 15\n",
    "    \"\"\"\n",
    "    assert twoNumberSum_Linear(data[3],15) == []\n",
    "\n",
    "def test_5(data):\n",
    "    \"\"\"\n",
    "    Test evaluation for [-21, 301, 12, 4, 65, 56, 210, 356, 9, -47] and target 164\n",
    "    \"\"\"\n",
    "    assert twoNumberSum_Linear(data[4],164) == [] \n",
    "\n",
    "def test_6(data):\n",
    "    \"\"\"\n",
    "    Test evaluation for [-21, 301, 12, 4, 65, 56, 210, 356, 9, -47] and target 163\n",
    "    \"\"\"\n",
    "    assert twoNumberSum_Linear(data[5],163) == [210, -47] \n",
    "\n",
    "def test_7(data):\n",
    "    \"\"\"\n",
    "    Test evaluation for [-7, -5, -3, -1, 0, 1, 3, 5, 7] and target -5\n",
    "    \"\"\"\n",
    "    assert twoNumberSum_Linear(data[6],-5) == [-5, 0]"
   ]
  },
  {
   "cell_type": "code",
   "execution_count": 7,
   "id": "eb3655ff",
   "metadata": {
    "scrolled": false
   },
   "outputs": [
    {
     "name": "stdout",
     "output_type": "stream",
     "text": [
      "============================= test session starts =============================\n",
      "platform win32 -- Python 3.9.7, pytest-6.2.4, py-1.10.0, pluggy-0.13.1 -- C:\\ProgramData\\Anaconda3\\python.exe\n",
      "cachedir: .pytest_cache\n",
      "rootdir: C:\\Users\\Keven Alison\\Documents\\Projetos ED2\\ED2---PROJECTS\\Projeto 2\n",
      "plugins: anyio-2.2.0, sugar-0.9.5\n",
      "collecting ... collected 7 items\n",
      "\n",
      "test_data_n.py::test_1 PASSED                                            [ 14%]\n",
      "test_data_n.py::test_2 PASSED                                            [ 28%]\n",
      "test_data_n.py::test_3 PASSED                                            [ 42%]\n",
      "test_data_n.py::test_4 PASSED                                            [ 57%]\n",
      "test_data_n.py::test_5 PASSED                                            [ 71%]\n",
      "test_data_n.py::test_6 PASSED                                            [ 85%]\n",
      "test_data_n.py::test_7 PASSED                                            [100%]\n",
      "\n",
      "============================== warnings summary ===============================\n",
      "..\\..\\..\\..\\..\\..\\ProgramData\\Anaconda3\\lib\\site-packages\\pyreadline\\py3k_compat.py:8\n",
      "  C:\\ProgramData\\Anaconda3\\lib\\site-packages\\pyreadline\\py3k_compat.py:8: DeprecationWarning: Using or importing the ABCs from 'collections' instead of from 'collections.abc' is deprecated since Python 3.3, and in 3.10 it will stop working\n",
      "    return isinstance(x, collections.Callable)\n",
      "\n",
      "-- Docs: https://docs.pytest.org/en/stable/warnings.html\n",
      "======================== 7 passed, 1 warning in 0.04s =========================\n"
     ]
    }
   ],
   "source": [
    "!pytest . -vv"
   ]
  },
  {
   "cell_type": "code",
   "execution_count": null,
   "id": "21d6c626",
   "metadata": {},
   "outputs": [],
   "source": [
    "print('Oii')"
   ]
  },
  {
   "cell_type": "markdown",
   "id": "13ee46ff",
   "metadata": {},
   "source": [
    "Garantido o funcionamento do código otimizado vamos compará-los para garantir que o algoritmo linear de fato mais rapido que o de ordem quadrática. Para isso vamos utilizar uma função que mete o tempo de execução de cada uma das duas funções time_twoNumberSum e time_twoNumberSum_Linear, para o código original e o otimizado, respecitvamente. A partir da função gen_input, que gera uma lista de valores aleatorios de -1000 até 1000, valores cada vez maiores são inseridos na função de soma, exigindo um maior tempo de processamento, permitindo enxergar as diferenças entre os algoritmos de forma mais clara. "
   ]
  },
  {
   "cell_type": "code",
   "execution_count": null,
   "id": "6bcb27f8",
   "metadata": {},
   "outputs": [],
   "source": [
    "import matplotlib.pyplot as plt\n",
    "import time\n",
    "import random\n",
    "import numpy as np\n",
    "\n",
    "#Gera valores inteiros aleatorios no intervalo de -1000 até 1000\n",
    "def gen_input(length):\n",
    "    return [random.randint(-1000, 1000) for _ in range(length)]\n",
    "\n",
    "#----------------------------------------------------------------------\n",
    "\n",
    "#Algoritmo com complexidade quadrática\n",
    "def twoNumberSum(array, targetSum):\n",
    "    for i in range(len(array) - 1):\n",
    "        firstNum = array[i]\n",
    "        for j in range (i+1, len(array)):\n",
    "            secondNum = array[j]\n",
    "            if firstNum + secondNum == targetSum:\n",
    "                return [firstNum, secondNum]\n",
    "    return []\n",
    "\n",
    "def time_twoNumberSum():\n",
    "    times =[]\n",
    "    for tam in range(1, 2):\n",
    "        values = gen_input(tam)\n",
    "        start = time.time()\n",
    "        twoNumberSum(values, tam)\n",
    "        end = time.time()\n",
    "        runtime = end - start\n",
    "        times.append(runtime)\n",
    "    return times\n",
    "\n",
    "#-----------------------------------------------------------------------\n",
    "#Algoritmo com complexidade linear\n",
    "def twoNumberSum_Linear(array, targetSum):\n",
    "    solution = {}\n",
    "    for x in array:\n",
    "        y = targetSum - x\n",
    "        if y in solution:\n",
    "            return [y,x]\n",
    "        else:\n",
    "            solution[x] = True     \n",
    "    return []\n",
    "\n",
    "def time_twoNumberSum_Linear():\n",
    "    times =[]\n",
    "    for tam in range(1, 2):\n",
    "        values = gen_input(tam)\n",
    "        start = time.time()\n",
    "        twoNumberSum_Linear(values, tam)\n",
    "        end = time.time()\n",
    "        runtime = end - start\n",
    "        times.append(runtime)\n",
    "    return times\n",
    "\n",
    "#-----------------------------------------------------------------------    \n",
    "\n",
    "def plot_Times_quadratico(times, size):\n",
    "    plt.style.use('fivethirtyeight')\n",
    "    fig, ax = plt.subplots(1, 1,figsize=(10, 6))\n",
    "    ax.plot(times,label=\"Tempo de execução p/ array\")\n",
    "    ax.set_xlabel(\"Tamanho do array\")\n",
    "    ax.set_ylabel(\"Runtime (ms)\")\n",
    "\n",
    "    z = np.polyfit(range(1, size),times, 2)\n",
    "    p = np.poly1d(z)\n",
    "\n",
    "    ax.plot(range(1, size),p(range(1, size)),label=\"Modelo de complexidade\")\n",
    "    ax.legend()\n",
    "    plt.show()\n",
    "    \n",
    "def plot_Times_linear(times, size):\n",
    "    fig, ax = plt.subplots(1, 1,figsize=(10, 6))\n",
    "    ax.plot(times,label=\"Tempo de execução p/ array\")\n",
    "    ax.set_xlabel(\"Tamanho do array\")\n",
    "    ax.set_ylabel(\"Runtime (ms)\")\n",
    "\n",
    "    z = np.polyfit(range(1, size),times, 1)\n",
    "    p = np.poly1d(z)\n",
    "\n",
    "    ax.plot(range(1, size),p(range(1, size)),label=\"Modelo de complexidade\")\n",
    "    ax.legend()\n",
    "    plt.show()\n",
    "    \n",
    "plot_Times_quadratico(time_twoNumberSum(), 2)\n",
    "plot_Times_linear(time_twoNumberSum_Linear(), 2)"
   ]
  },
  {
   "cell_type": "markdown",
   "id": "d319157a",
   "metadata": {},
   "source": [
    "Como esperado observamos uma curva quadrática para o algoritmo original e uma reta linear para o algoritmo otimizado. Quanto maior o tamanho do array mais o algoritimo original demora a obter um resultado, tornando-o inviável para a entrada de dados muito grandes. Como solução vemos que a curva linear do nosso algoritmo otimizado leva em conta o tamanho do array porem perdendo um desempenho aceitável, pois naturalmente quanto maior a quantidade e tamanho dos valores maior vai ser a operação, porém, com a otimização aplicada, esse tempo é bastante reduzido."
   ]
  }
 ],
 "metadata": {
  "kernelspec": {
   "display_name": "Python 3 (ipykernel)",
   "language": "python",
   "name": "python3"
  },
  "language_info": {
   "codemirror_mode": {
    "name": "ipython",
    "version": 3
   },
   "file_extension": ".py",
   "mimetype": "text/x-python",
   "name": "python",
   "nbconvert_exporter": "python",
   "pygments_lexer": "ipython3",
   "version": "3.9.7"
  }
 },
 "nbformat": 4,
 "nbformat_minor": 5
}
